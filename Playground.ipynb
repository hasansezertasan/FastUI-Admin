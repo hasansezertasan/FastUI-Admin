{
 "cells": [
  {
   "cell_type": "code",
   "execution_count": 1,
   "metadata": {},
   "outputs": [
    {
     "name": "stdout",
     "output_type": "stream",
     "text": [
      "[('name', {'required': True, 'description': None, 'annotation': <class 'str'>}), ('age', {'required': True, 'description': None, 'annotation': <class 'int'>})]\n"
     ]
    }
   ],
   "source": [
    "from pydantic.fields import FieldInfo\n",
    "from typing import Dict, List\n",
    "from pydantic import BaseModel\n",
    "\n",
    "\n",
    "class ModelView:\n",
    "    def __init__(self, model):\n",
    "        self.model: BaseModel = model\n",
    "        self.model_fields: Dict[str, FieldInfo] = self.model.model_fields\n",
    "    \n",
    "    def definitions(self):\n",
    "        definitions: List[tuple[str, dict]] = []\n",
    "        for k, v in self.model_fields.items():\n",
    "            data = v.json_schema_extra or {}\n",
    "            data.update({\n",
    "                \"required\": v.is_required(),\n",
    "                \"description\": v.description,\n",
    "                \"annotation\": v.annotation,\n",
    "            })\n",
    "            definitions.append((k, data))\n",
    "        return definitions\n",
    "\n",
    "class TestModel(BaseModel):\n",
    "    name: str\n",
    "    age: int\n",
    "\n",
    "view = ModelView(TestModel)\n",
    "\n",
    "print(view.definitions())"
   ]
  }
 ],
 "metadata": {
  "kernelspec": {
   "display_name": "auto_agent-El4YowIf-py3.11",
   "language": "python",
   "name": "python3"
  },
  "language_info": {
   "codemirror_mode": {
    "name": "ipython",
    "version": 3
   },
   "file_extension": ".py",
   "mimetype": "text/x-python",
   "name": "python",
   "nbconvert_exporter": "python",
   "pygments_lexer": "ipython3",
   "version": "3.11.4"
  }
 },
 "nbformat": 4,
 "nbformat_minor": 2
}
